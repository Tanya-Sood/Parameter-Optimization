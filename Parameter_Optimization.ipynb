{
  "nbformat": 4,
  "nbformat_minor": 0,
  "metadata": {
    "colab": {
      "provenance": [],
      "authorship_tag": "ABX9TyON63FwM3oJtMmPY9BH9tNy",
      "include_colab_link": true
    },
    "kernelspec": {
      "name": "python3",
      "display_name": "Python 3"
    },
    "language_info": {
      "name": "python"
    }
  },
  "cells": [
    {
      "cell_type": "markdown",
      "metadata": {
        "id": "view-in-github",
        "colab_type": "text"
      },
      "source": [
        "<a href=\"https://colab.research.google.com/github/Tanya-Sood/Parameter-Optimization/blob/main/Parameter_Optimization.ipynb\" target=\"_parent\"><img src=\"https://colab.research.google.com/assets/colab-badge.svg\" alt=\"Open In Colab\"/></a>"
      ]
    },
    {
      "cell_type": "code",
      "execution_count": 14,
      "metadata": {
        "id": "r-GBsCjWRnWo"
      },
      "outputs": [],
      "source": [
        "import numpy as np\n",
        "import pandas as pd\n",
        "from sklearn.model_selection import train_test_split\n",
        "from sklearn.svm import NuSVC\n",
        "from sklearn.preprocessing import StandardScaler\n",
        "from sklearn.metrics import accuracy_score\n",
        "import matplotlib.pyplot as plt\n",
        "from sklearn.preprocessing import LabelEncoder\n",
        "import random"
      ]
    },
    {
      "cell_type": "code",
      "source": [
        "url = \"https://archive.ics.uci.edu/ml/machine-learning-databases/car/car.data\"\n",
        "cols = ['buying', 'maint', 'doors', 'persons', 'lug_boot', 'safety', 'class']\n",
        "df = pd.read_csv(url, names=cols)\n",
        "\n",
        "for col in df.columns:\n",
        "    le = LabelEncoder()\n",
        "    df[col] = le.fit_transform(df[col])\n",
        "\n",
        "X = df.drop('class', axis=1)\n",
        "y = df['class']\n",
        "\n",
        "scaler = StandardScaler()\n",
        "X_scaled = scaler.fit_transform(X)"
      ],
      "metadata": {
        "id": "Rw_uDrazSFSq"
      },
      "execution_count": 15,
      "outputs": []
    },
    {
      "cell_type": "code",
      "source": [
        "results = []\n",
        "all_convergences = []\n",
        "\n",
        "for i in range(10):\n",
        "    print(f\"Running sample S{i+1}\")\n",
        "    X_train, X_test, y_train, y_test = train_test_split(X_scaled, y, test_size=0.3, random_state=i)\n",
        "\n",
        "    best_acc = 0\n",
        "    best_params = {}\n",
        "    acc_list = []\n",
        "\n",
        "    for itr in range(100):\n",
        "        kernel = random.choice(['linear', 'rbf', 'poly', 'sigmoid'])\n",
        "        nu = round(random.uniform(0.01, 0.9), 2)\n",
        "        epsilon = round(random.uniform(0.001, 1), 3)\n",
        "\n",
        "        try:\n",
        "            model = NuSVC(kernel=kernel, nu=nu)\n",
        "            model.fit(X_train, y_train)\n",
        "            preds = model.predict(X_test)\n",
        "            acc = accuracy_score(y_test, preds)\n",
        "        except:\n",
        "            acc = 0\n",
        "\n",
        "        if itr == 0:\n",
        "            acc_list.append(acc)\n",
        "        else:\n",
        "            acc_list.append(max(acc_list[-1], acc))\n",
        "\n",
        "        if acc > best_acc:\n",
        "            best_acc = acc\n",
        "            best_params = {'Kernel': kernel, 'Nu': nu, 'Epsilon': epsilon}\n",
        "\n",
        "    results.append([f\"S{i+1}\", round(best_acc * 100, 2), best_params])\n",
        "    all_convergences.append(acc_list)"
      ],
      "metadata": {
        "colab": {
          "base_uri": "https://localhost:8080/"
        },
        "id": "Xcn_IAqKSNj3",
        "outputId": "9e1847aa-76e1-4b5e-808e-6488ff7f4d30"
      },
      "execution_count": 17,
      "outputs": [
        {
          "output_type": "stream",
          "name": "stdout",
          "text": [
            "Running sample S1\n",
            "Running sample S2\n",
            "Running sample S3\n",
            "Running sample S4\n",
            "Running sample S5\n",
            "Running sample S6\n",
            "Running sample S7\n",
            "Running sample S8\n",
            "Running sample S9\n",
            "Running sample S10\n"
          ]
        }
      ]
    },
    {
      "cell_type": "code",
      "source": [
        "result_df = pd.DataFrame(results, columns=['Sample #', 'Best Accuracy', 'Best SVM Parameters (Kernel, Nu, Epsilon)'])\n",
        "print(result_df.to_string(index=False))"
      ],
      "metadata": {
        "colab": {
          "base_uri": "https://localhost:8080/"
        },
        "id": "bqfEUSvESVRL",
        "outputId": "569a507f-1887-43cd-97b7-2cac79152491"
      },
      "execution_count": 18,
      "outputs": [
        {
          "output_type": "stream",
          "name": "stdout",
          "text": [
            "Sample #  Best Accuracy       Best SVM Parameters (Kernel, Nu, Epsilon)\n",
            "      S1          98.65 {'Kernel': 'rbf', 'Nu': 0.06, 'Epsilon': 0.242}\n",
            "      S2          99.42 {'Kernel': 'rbf', 'Nu': 0.03, 'Epsilon': 0.455}\n",
            "      S3          99.61 {'Kernel': 'rbf', 'Nu': 0.07, 'Epsilon': 0.228}\n",
            "      S4          99.23 {'Kernel': 'rbf', 'Nu': 0.07, 'Epsilon': 0.963}\n",
            "      S5          99.04 {'Kernel': 'rbf', 'Nu': 0.09, 'Epsilon': 0.942}\n",
            "      S6          98.65 {'Kernel': 'rbf', 'Nu': 0.02, 'Epsilon': 0.291}\n",
            "      S7          99.04 {'Kernel': 'rbf', 'Nu': 0.06, 'Epsilon': 0.026}\n",
            "      S8          99.42 {'Kernel': 'rbf', 'Nu': 0.02, 'Epsilon': 0.039}\n",
            "      S9          99.42 {'Kernel': 'rbf', 'Nu': 0.01, 'Epsilon': 0.651}\n",
            "     S10          99.81 {'Kernel': 'rbf', 'Nu': 0.02, 'Epsilon': 0.959}\n"
          ]
        }
      ]
    },
    {
      "cell_type": "code",
      "source": [
        "best_idx = np.argmax(result_df['Best Accuracy'])\n",
        "plt.figure(figsize=(10, 6))\n",
        "plt.plot([a * 100 for a in all_convergences[best_idx]])\n",
        "plt.xlabel('Iteration')\n",
        "plt.ylabel('Accuracy')\n",
        "plt.title('Fitness (bestAccuracy)')\n",
        "plt.grid(True)\n",
        "plt.show()"
      ],
      "metadata": {
        "colab": {
          "base_uri": "https://localhost:8080/",
          "height": 564
        },
        "id": "QzRyt_bJSY6V",
        "outputId": "c7f7ac46-cd8a-4c6d-8391-7ed0e8fee095"
      },
      "execution_count": 19,
      "outputs": [
        {
          "output_type": "display_data",
          "data": {
            "text/plain": [
              "<Figure size 1000x600 with 1 Axes>"
            ],
            "image/png": "[encoded data removed]"
          },
          "metadata": {}
        }
      ]
    }
  ]
}